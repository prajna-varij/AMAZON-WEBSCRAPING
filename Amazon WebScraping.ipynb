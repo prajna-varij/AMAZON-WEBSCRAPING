{
 "cells": [
  {
   "cell_type": "code",
   "execution_count": 55,
   "id": "90720867",
   "metadata": {},
   "outputs": [],
   "source": [
    "from bs4 import BeautifulSoup\n",
    "import pandas as pd\n",
    "import requests\n",
    "import smtplib\n",
    "import time\n",
    "import csv\n",
    "import datetime"
   ]
  },
  {
   "cell_type": "code",
   "execution_count": 47,
   "id": "b1870043",
   "metadata": {},
   "outputs": [
    {
     "name": "stdout",
     "output_type": "stream",
     "text": [
      "\n",
      "           Redmi Note 10S (Cosmic Purple, 8GB RAM,128 GB Storage) - Super Amoled Display | 64 MP Quad Camera | Alexa Built in\n",
      "          \n",
      "\n",
      "              ₹18,499.00\n",
      "             \n"
     ]
    }
   ],
   "source": [
    "URL = 'https://www.amazon.in/Redmi-Note-10S-Cosmic-Storage/dp/B09MKMSQ9M/ref=pd_sbs_3/260-9305859-9388455?pd_rd_w=uiUsc&pf_rd_p=950901b9-b71e-4c33-9fc5-41ec6db58ad1&pf_rd_r=SVAX1C3W2QB9B2YN4EHA&pd_rd_r=fecd4a5f-943c-4d49-963f-bd8384f0943d&pd_rd_wg=QfvkX&pd_rd_i=B09MKMSQ9M&psc=1'\n",
    "headers = {\"User-Agent\": \"Mozilla/5.0 (Windows NT 10.0; Win64; x64; rv:95.0) Gecko/20100101 Firefox/95.0\"}\n",
    "\n",
    "page = requests.get(URL, headers=headers)\n",
    "\n",
    "Soup1 = BeautifulSoup(page.content, \"lxml\")\n",
    "Soup2 = BeautifulSoup(Soup1.prettify(),\"lxml\")\n",
    "\n",
    "title = Soup2.find(id='productTitle').get_text()\n",
    "price = Soup2.find(id='priceblock_ourprice').get_text()\n",
    "\n",
    "\n",
    "print(title)\n",
    "print(price)\n",
    "\n"
   ]
  },
  {
   "cell_type": "code",
   "execution_count": 51,
   "id": "925747c6",
   "metadata": {},
   "outputs": [
    {
     "name": "stdout",
     "output_type": "stream",
     "text": [
      "Redmi Note 10S (Cosmic Purple, 8GB RAM,128 GB Storage) - Super Amoled Display | 64 MP Quad Camera | Alexa Built in\n",
      "₹18,499.00\n",
      "2021-12-16\n"
     ]
    }
   ],
   "source": [
    "price = price.strip()\n",
    "title = title.strip()\n",
    "\n",
    "print(title)\n",
    "print(price)\n",
    "\n",
    "today = datetime.date.today()\n",
    "print(today)"
   ]
  },
  {
   "cell_type": "code",
   "execution_count": 54,
   "id": "2ee8b6a5",
   "metadata": {},
   "outputs": [],
   "source": [
    "header = ['Title','Price','Date']\n",
    "data = [title,price,today]\n",
    "\n",
    "with open('AmazonWebScrap.csv', 'w',newline = '',encoding = 'UTF8') as f:\n",
    "    writer = csv.writer(f)\n",
    "    writer.writerow(header)\n",
    "    writer.writerow(data)"
   ]
  },
  {
   "cell_type": "code",
   "execution_count": 56,
   "id": "2bef59a5",
   "metadata": {},
   "outputs": [
    {
     "name": "stdout",
     "output_type": "stream",
     "text": [
      "                                               Title       Price        Date\n",
      "0  Redmi Note 10S (Cosmic Purple, 8GB RAM,128 GB ...  ₹18,499.00  2021-12-16\n"
     ]
    }
   ],
   "source": [
    "df = pd.read_csv(r'C:\\Users\\heart\\Portfolio\\AmazonWebScrap.csv')\n",
    "print(df)"
   ]
  },
  {
   "cell_type": "code",
   "execution_count": 57,
   "id": "e0866eca",
   "metadata": {},
   "outputs": [],
   "source": [
    "with open('AmazonWebScrap.csv', 'a+', newline='', encoding='UTF8') as f:\n",
    "    writer = csv.writer(f)\n",
    "    writer.writerow(data)"
   ]
  },
  {
   "cell_type": "code",
   "execution_count": 58,
   "id": "85358cd5",
   "metadata": {},
   "outputs": [],
   "source": [
    "def check_price():\n",
    "    URL = 'https://www.amazon.in/Redmi-Note-10S-Cosmic-Storage/dp/B09MKMSQ9M/ref=pd_sbs_3/260-9305859-9388455?pd_rd_w=uiUsc&pf_rd_p=950901b9-b71e-4c33-9fc5-41ec6db58ad1&pf_rd_r=SVAX1C3W2QB9B2YN4EHA&pd_rd_r=fecd4a5f-943c-4d49-963f-bd8384f0943d&pd_rd_wg=QfvkX&pd_rd_i=B09MKMSQ9M&psc=1'\n",
    "    headers = {\"User-Agent\": \"Mozilla/5.0 (Windows NT 10.0; Win64; x64; rv:95.0) Gecko/20100101 Firefox/95.0\"}\n",
    "\n",
    "    page = requests.get(URL, headers=headers)\n",
    "\n",
    "    Soup1 = BeautifulSoup(page.content, \"lxml\")\n",
    "    Soup2 = BeautifulSoup(Soup1.prettify(),\"lxml\")\n",
    "\n",
    "    title = Soup2.find(id='productTitle').get_text()\n",
    "    price = Soup2.find(id='priceblock_ourprice').get_text()\n",
    "\n",
    "\n",
    "    price = price.strip()\n",
    "    title = title.strip()\n",
    "    today = datetime.date.today()\n",
    "    header = ['Title','Price','Date']\n",
    "    data = [title,price,today]\n",
    "    with open('AmazonWebScrap.csv', 'a+', newline='', encoding='UTF8') as f:\n",
    "        writer = csv.writer(f)\n",
    "        writer.writerow(data)\n",
    "    "
   ]
  },
  {
   "cell_type": "code",
   "execution_count": null,
   "id": "b4e9c42e",
   "metadata": {},
   "outputs": [],
   "source": []
  }
 ],
 "metadata": {
  "kernelspec": {
   "display_name": "Python 3 (ipykernel)",
   "language": "python",
   "name": "python3"
  },
  "language_info": {
   "codemirror_mode": {
    "name": "ipython",
    "version": 3
   },
   "file_extension": ".py",
   "mimetype": "text/x-python",
   "name": "python",
   "nbconvert_exporter": "python",
   "pygments_lexer": "ipython3",
   "version": "3.9.7"
  }
 },
 "nbformat": 4,
 "nbformat_minor": 5
}
